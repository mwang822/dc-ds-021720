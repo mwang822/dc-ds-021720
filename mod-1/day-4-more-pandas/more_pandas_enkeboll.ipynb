{
 "cells": [
  {
   "cell_type": "markdown",
   "metadata": {},
   "source": [
    "## Pandas Practice\n",
    "\n",
    "### Introduction <a id=\"intro\"></a>\n",
    "In this notebook you'll get further practice and review with using conditionals, functions and the pandas package. All of these are common skills in a data science workflow."
   ]
  },
  {
   "cell_type": "code",
   "execution_count": 1,
   "metadata": {},
   "outputs": [],
   "source": [
    "import pandas as pd"
   ]
  },
  {
   "cell_type": "code",
   "execution_count": null,
   "metadata": {},
   "outputs": [],
   "source": [
    "# import the data held in data/ folder"
   ]
  },
  {
   "cell_type": "code",
   "execution_count": 2,
   "metadata": {},
   "outputs": [
    {
     "name": "stdout",
     "output_type": "stream",
     "text": [
      "\u001b[35mWorldCupMatches.csv\u001b[m\u001b[m\r\n"
     ]
    }
   ],
   "source": [
    "!ls data/"
   ]
  },
  {
   "cell_type": "code",
   "execution_count": 3,
   "metadata": {},
   "outputs": [
    {
     "name": "stdout",
     "output_type": "stream",
     "text": [
      "Year,Datetime,Stage,Stadium,City,Home Team Name,Home Team Goals,Away Team Goals,Away Team Name,Win conditions,Attendance,Half-time Home Goals,Half-time Away Goals,Referee,Assistant 1,Assistant 2,RoundID,MatchID,Home Team Initials,Away Team Initials\r\n",
      "1930,\"13 Jul 1930 - 15:00 \",Group 1,Pocitos,\"Montevideo \",France,4,1,Mexico,\" \",4444,3,0,LOMBARDI Domingo (URU),CRISTOPHE Henry (BEL),REGO Gilberto (BRA),201,1096,FRA,MEX\r\n",
      "1930,\"13 Jul 1930 - 15:00 \",Group 4,Parque Central,\"Montevideo \",USA,3,0,Belgium,\" \",18346,2,0,MACIAS Jose (ARG),MATEUCCI Francisco (URU),WARNKEN Alberto (CHI),201,1090,USA,BEL\r\n",
      "1930,\"14 Jul 1930 - 12:45 \",Group 2,Parque Central,\"Montevideo \",Yugoslavia,2,1,Brazil,\" \",24059,2,0,TEJADA Anibal (URU),VALLARINO Ricardo (URU),BALWAY Thomas (FRA),201,1093,YUG,BRA\r\n",
      "1930,\"14 Jul 1930 - 14:50 \",Group 3,Pocitos,\"Montevideo \",Romania,3,1,Peru,\" \",2549,1,0,WARNKEN Alberto (CHI),LANGENUS Jean (BEL),MATEUCCI Francisco (URU),201,1098,ROU,PER\r\n",
      "1930,\"15 Jul 1930 - 16:00 \",Group 1,Parque Central,\"Montevideo \",Argentina,1,0,France,\" \",23409,0,0,REGO Gilberto (BRA),SAUCEDO Ulises (BOL),RADULESCU Constantin (ROU),201,1085,ARG,FRA\r\n",
      "1930,\"16 Jul 1930 - 14:45 \",Group 1,Parque Central,\"Montevideo \",Chile,3,0,Mexico,\" \",9249,1,0,CRISTOPHE Henry (BEL),APHESTEGUY Martin (URU),LANGENUS Jean (BEL),201,1095,CHI,MEX\r\n",
      "1930,\"17 Jul 1930 - 12:45 \",Group 2,Parque Central,\"Montevideo \",Yugoslavia,4,0,Bolivia,\" \",18306,0,0,MATEUCCI Francisco (URU),LOMBARDI Domingo (URU),WARNKEN Alberto (CHI),201,1092,YUG,BOL\r\n",
      "1930,\"17 Jul 1930 - 14:45 \",Group 4,Parque Central,\"Montevideo \",USA,3,0,Paraguay,\" \",18306,2,0,MACIAS Jose (ARG),APHESTEGUY Martin (URU),TEJADA Anibal (URU),201,1097,USA,PAR\r\n",
      "1930,\"18 Jul 1930 - 14:30 \",Group 3,Estadio Centenario,\"Montevideo \",Uruguay,1,0,Peru,\" \",57735,0,0,LANGENUS Jean (BEL),BALWAY Thomas (FRA),CRISTOPHE Henry (BEL),201,1099,URU,PER\r\n"
     ]
    }
   ],
   "source": [
    "!head data/WorldCupMatches.csv"
   ]
  },
  {
   "cell_type": "code",
   "execution_count": 2,
   "metadata": {},
   "outputs": [],
   "source": [
    "df = pd.read_csv('data/WorldCupMatches.csv')"
   ]
  },
  {
   "cell_type": "code",
   "execution_count": 3,
   "metadata": {},
   "outputs": [
    {
     "data": {
      "text/html": [
       "<div>\n",
       "<style scoped>\n",
       "    .dataframe tbody tr th:only-of-type {\n",
       "        vertical-align: middle;\n",
       "    }\n",
       "\n",
       "    .dataframe tbody tr th {\n",
       "        vertical-align: top;\n",
       "    }\n",
       "\n",
       "    .dataframe thead th {\n",
       "        text-align: right;\n",
       "    }\n",
       "</style>\n",
       "<table border=\"1\" class=\"dataframe\">\n",
       "  <thead>\n",
       "    <tr style=\"text-align: right;\">\n",
       "      <th></th>\n",
       "      <th>Year</th>\n",
       "      <th>Datetime</th>\n",
       "      <th>Stage</th>\n",
       "      <th>Stadium</th>\n",
       "      <th>City</th>\n",
       "      <th>Home Team Name</th>\n",
       "      <th>Home Team Goals</th>\n",
       "      <th>Away Team Goals</th>\n",
       "      <th>Away Team Name</th>\n",
       "      <th>Win conditions</th>\n",
       "      <th>Attendance</th>\n",
       "      <th>Half-time Home Goals</th>\n",
       "      <th>Half-time Away Goals</th>\n",
       "      <th>Referee</th>\n",
       "      <th>Assistant 1</th>\n",
       "      <th>Assistant 2</th>\n",
       "      <th>RoundID</th>\n",
       "      <th>MatchID</th>\n",
       "      <th>Home Team Initials</th>\n",
       "      <th>Away Team Initials</th>\n",
       "    </tr>\n",
       "  </thead>\n",
       "  <tbody>\n",
       "    <tr>\n",
       "      <td>0</td>\n",
       "      <td>1930</td>\n",
       "      <td>13 Jul 1930 - 15:00</td>\n",
       "      <td>Group 1</td>\n",
       "      <td>Pocitos</td>\n",
       "      <td>Montevideo</td>\n",
       "      <td>France</td>\n",
       "      <td>4</td>\n",
       "      <td>1</td>\n",
       "      <td>Mexico</td>\n",
       "      <td></td>\n",
       "      <td>4444.0</td>\n",
       "      <td>3</td>\n",
       "      <td>0</td>\n",
       "      <td>LOMBARDI Domingo (URU)</td>\n",
       "      <td>CRISTOPHE Henry (BEL)</td>\n",
       "      <td>REGO Gilberto (BRA)</td>\n",
       "      <td>201</td>\n",
       "      <td>1096</td>\n",
       "      <td>FRA</td>\n",
       "      <td>MEX</td>\n",
       "    </tr>\n",
       "    <tr>\n",
       "      <td>1</td>\n",
       "      <td>1930</td>\n",
       "      <td>13 Jul 1930 - 15:00</td>\n",
       "      <td>Group 4</td>\n",
       "      <td>Parque Central</td>\n",
       "      <td>Montevideo</td>\n",
       "      <td>USA</td>\n",
       "      <td>3</td>\n",
       "      <td>0</td>\n",
       "      <td>Belgium</td>\n",
       "      <td></td>\n",
       "      <td>18346.0</td>\n",
       "      <td>2</td>\n",
       "      <td>0</td>\n",
       "      <td>MACIAS Jose (ARG)</td>\n",
       "      <td>MATEUCCI Francisco (URU)</td>\n",
       "      <td>WARNKEN Alberto (CHI)</td>\n",
       "      <td>201</td>\n",
       "      <td>1090</td>\n",
       "      <td>USA</td>\n",
       "      <td>BEL</td>\n",
       "    </tr>\n",
       "    <tr>\n",
       "      <td>2</td>\n",
       "      <td>1930</td>\n",
       "      <td>14 Jul 1930 - 12:45</td>\n",
       "      <td>Group 2</td>\n",
       "      <td>Parque Central</td>\n",
       "      <td>Montevideo</td>\n",
       "      <td>Yugoslavia</td>\n",
       "      <td>2</td>\n",
       "      <td>1</td>\n",
       "      <td>Brazil</td>\n",
       "      <td></td>\n",
       "      <td>24059.0</td>\n",
       "      <td>2</td>\n",
       "      <td>0</td>\n",
       "      <td>TEJADA Anibal (URU)</td>\n",
       "      <td>VALLARINO Ricardo (URU)</td>\n",
       "      <td>BALWAY Thomas (FRA)</td>\n",
       "      <td>201</td>\n",
       "      <td>1093</td>\n",
       "      <td>YUG</td>\n",
       "      <td>BRA</td>\n",
       "    </tr>\n",
       "    <tr>\n",
       "      <td>3</td>\n",
       "      <td>1930</td>\n",
       "      <td>14 Jul 1930 - 14:50</td>\n",
       "      <td>Group 3</td>\n",
       "      <td>Pocitos</td>\n",
       "      <td>Montevideo</td>\n",
       "      <td>Romania</td>\n",
       "      <td>3</td>\n",
       "      <td>1</td>\n",
       "      <td>Peru</td>\n",
       "      <td></td>\n",
       "      <td>2549.0</td>\n",
       "      <td>1</td>\n",
       "      <td>0</td>\n",
       "      <td>WARNKEN Alberto (CHI)</td>\n",
       "      <td>LANGENUS Jean (BEL)</td>\n",
       "      <td>MATEUCCI Francisco (URU)</td>\n",
       "      <td>201</td>\n",
       "      <td>1098</td>\n",
       "      <td>ROU</td>\n",
       "      <td>PER</td>\n",
       "    </tr>\n",
       "    <tr>\n",
       "      <td>4</td>\n",
       "      <td>1930</td>\n",
       "      <td>15 Jul 1930 - 16:00</td>\n",
       "      <td>Group 1</td>\n",
       "      <td>Parque Central</td>\n",
       "      <td>Montevideo</td>\n",
       "      <td>Argentina</td>\n",
       "      <td>1</td>\n",
       "      <td>0</td>\n",
       "      <td>France</td>\n",
       "      <td></td>\n",
       "      <td>23409.0</td>\n",
       "      <td>0</td>\n",
       "      <td>0</td>\n",
       "      <td>REGO Gilberto (BRA)</td>\n",
       "      <td>SAUCEDO Ulises (BOL)</td>\n",
       "      <td>RADULESCU Constantin (ROU)</td>\n",
       "      <td>201</td>\n",
       "      <td>1085</td>\n",
       "      <td>ARG</td>\n",
       "      <td>FRA</td>\n",
       "    </tr>\n",
       "    <tr>\n",
       "      <td>...</td>\n",
       "      <td>...</td>\n",
       "      <td>...</td>\n",
       "      <td>...</td>\n",
       "      <td>...</td>\n",
       "      <td>...</td>\n",
       "      <td>...</td>\n",
       "      <td>...</td>\n",
       "      <td>...</td>\n",
       "      <td>...</td>\n",
       "      <td>...</td>\n",
       "      <td>...</td>\n",
       "      <td>...</td>\n",
       "      <td>...</td>\n",
       "      <td>...</td>\n",
       "      <td>...</td>\n",
       "      <td>...</td>\n",
       "      <td>...</td>\n",
       "      <td>...</td>\n",
       "      <td>...</td>\n",
       "      <td>...</td>\n",
       "    </tr>\n",
       "    <tr>\n",
       "      <td>847</td>\n",
       "      <td>2014</td>\n",
       "      <td>05 Jul 2014 - 17:00</td>\n",
       "      <td>Quarter-finals</td>\n",
       "      <td>Arena Fonte Nova</td>\n",
       "      <td>Salvador</td>\n",
       "      <td>Netherlands</td>\n",
       "      <td>0</td>\n",
       "      <td>0</td>\n",
       "      <td>Costa Rica</td>\n",
       "      <td>Netherlands win on penalties (4 - 3)</td>\n",
       "      <td>51179.0</td>\n",
       "      <td>0</td>\n",
       "      <td>0</td>\n",
       "      <td>Ravshan IRMATOV (UZB)</td>\n",
       "      <td>RASULOV Abduxamidullo (UZB)</td>\n",
       "      <td>KOCHKAROV Bakhadyr (KGZ)</td>\n",
       "      <td>255953</td>\n",
       "      <td>300186488</td>\n",
       "      <td>NED</td>\n",
       "      <td>CRC</td>\n",
       "    </tr>\n",
       "    <tr>\n",
       "      <td>848</td>\n",
       "      <td>2014</td>\n",
       "      <td>08 Jul 2014 - 17:00</td>\n",
       "      <td>Semi-finals</td>\n",
       "      <td>Estadio Mineirao</td>\n",
       "      <td>Belo Horizonte</td>\n",
       "      <td>Brazil</td>\n",
       "      <td>1</td>\n",
       "      <td>7</td>\n",
       "      <td>Germany</td>\n",
       "      <td></td>\n",
       "      <td>58141.0</td>\n",
       "      <td>0</td>\n",
       "      <td>5</td>\n",
       "      <td>RODRIGUEZ Marco (MEX)</td>\n",
       "      <td>TORRENTERA Marvin (MEX)</td>\n",
       "      <td>QUINTERO Marcos (MEX)</td>\n",
       "      <td>255955</td>\n",
       "      <td>300186474</td>\n",
       "      <td>BRA</td>\n",
       "      <td>GER</td>\n",
       "    </tr>\n",
       "    <tr>\n",
       "      <td>849</td>\n",
       "      <td>2014</td>\n",
       "      <td>09 Jul 2014 - 17:00</td>\n",
       "      <td>Semi-finals</td>\n",
       "      <td>Arena de Sao Paulo</td>\n",
       "      <td>Sao Paulo</td>\n",
       "      <td>Netherlands</td>\n",
       "      <td>0</td>\n",
       "      <td>0</td>\n",
       "      <td>Argentina</td>\n",
       "      <td>Argentina win on penalties (2 - 4)</td>\n",
       "      <td>63267.0</td>\n",
       "      <td>0</td>\n",
       "      <td>0</td>\n",
       "      <td>C�neyt �AKIR (TUR)</td>\n",
       "      <td>DURAN Bahattin (TUR)</td>\n",
       "      <td>ONGUN Tarik (TUR)</td>\n",
       "      <td>255955</td>\n",
       "      <td>300186490</td>\n",
       "      <td>NED</td>\n",
       "      <td>ARG</td>\n",
       "    </tr>\n",
       "    <tr>\n",
       "      <td>850</td>\n",
       "      <td>2014</td>\n",
       "      <td>12 Jul 2014 - 17:00</td>\n",
       "      <td>Play-off for third place</td>\n",
       "      <td>Estadio Nacional</td>\n",
       "      <td>Brasilia</td>\n",
       "      <td>Brazil</td>\n",
       "      <td>0</td>\n",
       "      <td>3</td>\n",
       "      <td>Netherlands</td>\n",
       "      <td></td>\n",
       "      <td>68034.0</td>\n",
       "      <td>0</td>\n",
       "      <td>2</td>\n",
       "      <td>HAIMOUDI Djamel (ALG)</td>\n",
       "      <td>ACHIK Redouane (MAR)</td>\n",
       "      <td>ETCHIALI Abdelhak (ALG)</td>\n",
       "      <td>255957</td>\n",
       "      <td>300186502</td>\n",
       "      <td>BRA</td>\n",
       "      <td>NED</td>\n",
       "    </tr>\n",
       "    <tr>\n",
       "      <td>851</td>\n",
       "      <td>2014</td>\n",
       "      <td>13 Jul 2014 - 16:00</td>\n",
       "      <td>Final</td>\n",
       "      <td>Estadio do Maracana</td>\n",
       "      <td>Rio De Janeiro</td>\n",
       "      <td>Germany</td>\n",
       "      <td>1</td>\n",
       "      <td>0</td>\n",
       "      <td>Argentina</td>\n",
       "      <td>Germany win after extra time</td>\n",
       "      <td>74738.0</td>\n",
       "      <td>0</td>\n",
       "      <td>0</td>\n",
       "      <td>Nicola RIZZOLI (ITA)</td>\n",
       "      <td>Renato FAVERANI (ITA)</td>\n",
       "      <td>Andrea STEFANI (ITA)</td>\n",
       "      <td>255959</td>\n",
       "      <td>300186501</td>\n",
       "      <td>GER</td>\n",
       "      <td>ARG</td>\n",
       "    </tr>\n",
       "  </tbody>\n",
       "</table>\n",
       "<p>852 rows × 20 columns</p>\n",
       "</div>"
      ],
      "text/plain": [
       "     Year              Datetime                     Stage  \\\n",
       "0    1930  13 Jul 1930 - 15:00                    Group 1   \n",
       "1    1930  13 Jul 1930 - 15:00                    Group 4   \n",
       "2    1930  14 Jul 1930 - 12:45                    Group 2   \n",
       "3    1930  14 Jul 1930 - 14:50                    Group 3   \n",
       "4    1930  15 Jul 1930 - 16:00                    Group 1   \n",
       "..    ...                   ...                       ...   \n",
       "847  2014  05 Jul 2014 - 17:00             Quarter-finals   \n",
       "848  2014  08 Jul 2014 - 17:00                Semi-finals   \n",
       "849  2014  09 Jul 2014 - 17:00                Semi-finals   \n",
       "850  2014  12 Jul 2014 - 17:00   Play-off for third place   \n",
       "851  2014  13 Jul 2014 - 16:00                      Final   \n",
       "\n",
       "                 Stadium             City Home Team Name  Home Team Goals  \\\n",
       "0                Pocitos      Montevideo          France                4   \n",
       "1         Parque Central      Montevideo             USA                3   \n",
       "2         Parque Central      Montevideo      Yugoslavia                2   \n",
       "3                Pocitos      Montevideo         Romania                3   \n",
       "4         Parque Central      Montevideo       Argentina                1   \n",
       "..                   ...              ...            ...              ...   \n",
       "847     Arena Fonte Nova        Salvador     Netherlands                0   \n",
       "848     Estadio Mineirao  Belo Horizonte          Brazil                1   \n",
       "849   Arena de Sao Paulo       Sao Paulo     Netherlands                0   \n",
       "850     Estadio Nacional        Brasilia          Brazil                0   \n",
       "851  Estadio do Maracana  Rio De Janeiro         Germany                1   \n",
       "\n",
       "     Away Team Goals Away Team Name                         Win conditions  \\\n",
       "0                  1         Mexico                                          \n",
       "1                  0        Belgium                                          \n",
       "2                  1         Brazil                                          \n",
       "3                  1           Peru                                          \n",
       "4                  0         France                                          \n",
       "..               ...            ...                                    ...   \n",
       "847                0     Costa Rica  Netherlands win on penalties (4 - 3)    \n",
       "848                7        Germany                                          \n",
       "849                0      Argentina    Argentina win on penalties (2 - 4)    \n",
       "850                3    Netherlands                                          \n",
       "851                0      Argentina          Germany win after extra time    \n",
       "\n",
       "     Attendance  Half-time Home Goals  Half-time Away Goals  \\\n",
       "0        4444.0                     3                     0   \n",
       "1       18346.0                     2                     0   \n",
       "2       24059.0                     2                     0   \n",
       "3        2549.0                     1                     0   \n",
       "4       23409.0                     0                     0   \n",
       "..          ...                   ...                   ...   \n",
       "847     51179.0                     0                     0   \n",
       "848     58141.0                     0                     5   \n",
       "849     63267.0                     0                     0   \n",
       "850     68034.0                     0                     2   \n",
       "851     74738.0                     0                     0   \n",
       "\n",
       "                    Referee                  Assistant 1  \\\n",
       "0    LOMBARDI Domingo (URU)        CRISTOPHE Henry (BEL)   \n",
       "1         MACIAS Jose (ARG)     MATEUCCI Francisco (URU)   \n",
       "2       TEJADA Anibal (URU)      VALLARINO Ricardo (URU)   \n",
       "3     WARNKEN Alberto (CHI)          LANGENUS Jean (BEL)   \n",
       "4       REGO Gilberto (BRA)         SAUCEDO Ulises (BOL)   \n",
       "..                      ...                          ...   \n",
       "847   Ravshan IRMATOV (UZB)  RASULOV Abduxamidullo (UZB)   \n",
       "848   RODRIGUEZ Marco (MEX)      TORRENTERA Marvin (MEX)   \n",
       "849      C�neyt �AKIR (TUR)         DURAN Bahattin (TUR)   \n",
       "850   HAIMOUDI Djamel (ALG)         ACHIK Redouane (MAR)   \n",
       "851    Nicola RIZZOLI (ITA)        Renato FAVERANI (ITA)   \n",
       "\n",
       "                    Assistant 2  RoundID    MatchID Home Team Initials  \\\n",
       "0           REGO Gilberto (BRA)      201       1096                FRA   \n",
       "1         WARNKEN Alberto (CHI)      201       1090                USA   \n",
       "2           BALWAY Thomas (FRA)      201       1093                YUG   \n",
       "3      MATEUCCI Francisco (URU)      201       1098                ROU   \n",
       "4    RADULESCU Constantin (ROU)      201       1085                ARG   \n",
       "..                          ...      ...        ...                ...   \n",
       "847    KOCHKAROV Bakhadyr (KGZ)   255953  300186488                NED   \n",
       "848       QUINTERO Marcos (MEX)   255955  300186474                BRA   \n",
       "849           ONGUN Tarik (TUR)   255955  300186490                NED   \n",
       "850     ETCHIALI Abdelhak (ALG)   255957  300186502                BRA   \n",
       "851        Andrea STEFANI (ITA)   255959  300186501                GER   \n",
       "\n",
       "    Away Team Initials  \n",
       "0                  MEX  \n",
       "1                  BEL  \n",
       "2                  BRA  \n",
       "3                  PER  \n",
       "4                  FRA  \n",
       "..                 ...  \n",
       "847                CRC  \n",
       "848                GER  \n",
       "849                ARG  \n",
       "850                NED  \n",
       "851                ARG  \n",
       "\n",
       "[852 rows x 20 columns]"
      ]
     },
     "execution_count": 3,
     "metadata": {},
     "output_type": "execute_result"
    }
   ],
   "source": [
    "df"
   ]
  },
  {
   "cell_type": "code",
   "execution_count": 4,
   "metadata": {},
   "outputs": [
    {
     "name": "stdout",
     "output_type": "stream",
     "text": [
      "<class 'pandas.core.frame.DataFrame'>\n",
      "RangeIndex: 852 entries, 0 to 851\n",
      "Data columns (total 20 columns):\n",
      "Year                    852 non-null int64\n",
      "Datetime                852 non-null object\n",
      "Stage                   852 non-null object\n",
      "Stadium                 852 non-null object\n",
      "City                    852 non-null object\n",
      "Home Team Name          852 non-null object\n",
      "Home Team Goals         852 non-null int64\n",
      "Away Team Goals         852 non-null int64\n",
      "Away Team Name          852 non-null object\n",
      "Win conditions          852 non-null object\n",
      "Attendance              850 non-null float64\n",
      "Half-time Home Goals    852 non-null int64\n",
      "Half-time Away Goals    852 non-null int64\n",
      "Referee                 852 non-null object\n",
      "Assistant 1             852 non-null object\n",
      "Assistant 2             852 non-null object\n",
      "RoundID                 852 non-null int64\n",
      "MatchID                 852 non-null int64\n",
      "Home Team Initials      852 non-null object\n",
      "Away Team Initials      852 non-null object\n",
      "dtypes: float64(1), int64(7), object(12)\n",
      "memory usage: 133.2+ KB\n"
     ]
    }
   ],
   "source": [
    "df.info()"
   ]
  },
  {
   "cell_type": "code",
   "execution_count": 7,
   "metadata": {},
   "outputs": [],
   "source": [
    "df.Datetime = pd.to_datetime(df.Datetime)"
   ]
  },
  {
   "cell_type": "code",
   "execution_count": 8,
   "metadata": {},
   "outputs": [
    {
     "name": "stdout",
     "output_type": "stream",
     "text": [
      "<class 'pandas.core.frame.DataFrame'>\n",
      "RangeIndex: 852 entries, 0 to 851\n",
      "Data columns (total 20 columns):\n",
      "Year                    852 non-null int64\n",
      "Datetime                852 non-null datetime64[ns]\n",
      "Stage                   852 non-null object\n",
      "Stadium                 852 non-null object\n",
      "City                    852 non-null object\n",
      "Home Team Name          852 non-null object\n",
      "Home Team Goals         852 non-null int64\n",
      "Away Team Goals         852 non-null int64\n",
      "Away Team Name          852 non-null object\n",
      "Win conditions          852 non-null object\n",
      "Attendance              850 non-null float64\n",
      "Half-time Home Goals    852 non-null int64\n",
      "Half-time Away Goals    852 non-null int64\n",
      "Referee                 852 non-null object\n",
      "Assistant 1             852 non-null object\n",
      "Assistant 2             852 non-null object\n",
      "RoundID                 852 non-null int64\n",
      "MatchID                 852 non-null int64\n",
      "Home Team Initials      852 non-null object\n",
      "Away Team Initials      852 non-null object\n",
      "dtypes: datetime64[ns](1), float64(1), int64(7), object(11)\n",
      "memory usage: 133.2+ KB\n"
     ]
    }
   ],
   "source": [
    "df.info()"
   ]
  },
  {
   "cell_type": "markdown",
   "metadata": {},
   "source": [
    "### Practice Questions <a id=\"practice\"></a>"
   ]
  },
  {
   "cell_type": "code",
   "execution_count": 10,
   "metadata": {},
   "outputs": [
    {
     "data": {
      "text/plain": [
       "0            40401\n",
       "1            40401\n",
       "2            40401\n",
       "3            40401\n",
       "4            40401\n",
       "          ...     \n",
       "847    65511938209\n",
       "848    65512962025\n",
       "849    65512962025\n",
       "850    65513985849\n",
       "851    65515009681\n",
       "Name: RoundID, Length: 852, dtype: int64"
      ]
     },
     "execution_count": 10,
     "metadata": {},
     "output_type": "execute_result"
    }
   ],
   "source": [
    "def square(x):\n",
    "    return x**2\n",
    "\n",
    "df.RoundID.apply(squares)"
   ]
  },
  {
   "cell_type": "markdown",
   "metadata": {},
   "source": [
    "1. Subset the DataFrame to only non-null rows."
   ]
  },
  {
   "cell_type": "code",
   "execution_count": 12,
   "metadata": {},
   "outputs": [],
   "source": [
    "#Your code for question 1 goes here.\n",
    "df = df.dropna()"
   ]
  },
  {
   "cell_type": "code",
   "execution_count": 16,
   "metadata": {},
   "outputs": [
    {
     "data": {
      "text/plain": [
       "                                                 787\n",
       "Italy win after extra time                         5\n",
       "Argentina win after extra time                     4\n",
       "Brazil win on penalties (3 - 2)                    3\n",
       "Belgium win after extra time                       3\n",
       "England win after extra time                       3\n",
       "Win on Golden Goal                                 3\n",
       "Netherlands win on penalties (4 - 3)               2\n",
       "Germany win after extra time                       2\n",
       "France win on penalties (3 - 4)                    2\n",
       "Costa Rica win on penalties (5 - 3)                2\n",
       "Argentina win on penalties (2 - 4)                 2\n",
       "France win after extra time                        2\n",
       "Belgium win on penalties (4 - 5)                   1\n",
       "Northern Ireland win after extra time              1\n",
       "Argentina win on penalties (4 - 3)                 1\n",
       "Italy win on penalties (5 - 3)                     1\n",
       "Cameroon win after extra time                      1\n",
       "Spain win after extra time                         1\n",
       " win on penalties (4 - 3)                          1\n",
       "Austria win after extra time                       1\n",
       "Yugoslavia win after extra time                    1\n",
       " win on penalties (3 - 4)                          1\n",
       "Germany FR win after extra time                    1\n",
       "Portugal win on penalties (1 - 3)                  1\n",
       "Bulgaria win on penalties (1 - 3)                  1\n",
       "Korea Republic win on penalties (3 - 5)            1\n",
       " win on penalties (2 - 3)                          1\n",
       "Paraguay win on penalties (5 - 3)                  1\n",
       "Republic of Ireland win on penalties (5 - 4)       1\n",
       "Brazil win after extra time                        1\n",
       "Ukraine win on penalties (0 - 3)                   1\n",
       "Ghana win after extra time                         1\n",
       "Czechoslovakia win after extra time                1\n",
       "Hungary win after extra time                       1\n",
       "Germany FR win on penalties (4 - 1)                1\n",
       "Sweden win on penalties (4 - 5)                    1\n",
       "Uruguay win after extra time                       1\n",
       "Spain win on penalties (3 - 2)                     1\n",
       "Germany win on penalties (4 - 2)                   1\n",
       "Brazil win on penalties (4 - 2)                    1\n",
       "Uruguay win on penalties (4 - 2)                   1\n",
       " win on penalties (5 - 4)                          1\n",
       "Name: Win conditions, dtype: int64"
      ]
     },
     "execution_count": 16,
     "metadata": {},
     "output_type": "execute_result"
    }
   ],
   "source": [
    "df['Win conditions'].value_counts()"
   ]
  },
  {
   "cell_type": "code",
   "execution_count": 20,
   "metadata": {},
   "outputs": [
    {
     "data": {
      "text/plain": [
       "0                                          \n",
       "1                                          \n",
       "2                                          \n",
       "3                                          \n",
       "4                                          \n",
       "                       ...                 \n",
       "847    Netherlands win on penalties (4 - 3)\n",
       "848                                        \n",
       "849      Argentina win on penalties (2 - 4)\n",
       "850                                        \n",
       "851            Germany win after extra time\n",
       "Name: Win conditions, Length: 850, dtype: object"
      ]
     },
     "execution_count": 20,
     "metadata": {},
     "output_type": "execute_result"
    }
   ],
   "source": [
    "df['Win conditions'].str.strip()"
   ]
  },
  {
   "cell_type": "code",
   "execution_count": 23,
   "metadata": {},
   "outputs": [
    {
     "name": "stderr",
     "output_type": "stream",
     "text": [
      "/opt/anaconda3/lib/python3.7/site-packages/ipykernel_launcher.py:1: SettingWithCopyWarning: \n",
      "A value is trying to be set on a copy of a slice from a DataFrame.\n",
      "Try using .loc[row_indexer,col_indexer] = value instead\n",
      "\n",
      "See the caveats in the documentation: http://pandas.pydata.org/pandas-docs/stable/user_guide/indexing.html#returning-a-view-versus-a-copy\n",
      "  \"\"\"Entry point for launching an IPython kernel.\n"
     ]
    }
   ],
   "source": [
    "df.loc[df['Win conditions'].str.strip() == '']['Win conditions'] = 'N/A'"
   ]
  },
  {
   "cell_type": "code",
   "execution_count": null,
   "metadata": {},
   "outputs": [],
   "source": []
  },
  {
   "cell_type": "markdown",
   "metadata": {},
   "source": [
    "2. How many of the matches were in Montevideo?  "
   ]
  },
  {
   "cell_type": "code",
   "execution_count": 31,
   "metadata": {},
   "outputs": [
    {
     "data": {
      "text/plain": [
       "Year                    18\n",
       "Datetime                18\n",
       "Stage                   18\n",
       "Stadium                 18\n",
       "City                    18\n",
       "Home Team Name          18\n",
       "Home Team Goals         18\n",
       "Away Team Goals         18\n",
       "Away Team Name          18\n",
       "Win conditions          18\n",
       "Attendance              18\n",
       "Half-time Home Goals    18\n",
       "Half-time Away Goals    18\n",
       "Referee                 18\n",
       "Assistant 1             18\n",
       "Assistant 2             18\n",
       "RoundID                 18\n",
       "MatchID                 18\n",
       "Home Team Initials      18\n",
       "Away Team Initials      18\n",
       "dtype: int64"
      ]
     },
     "execution_count": 31,
     "metadata": {},
     "output_type": "execute_result"
    }
   ],
   "source": [
    "#Your code for question 2 goes here.\n",
    "df.loc[df.City.str.strip() == 'Montevideo'].count()"
   ]
  },
  {
   "cell_type": "markdown",
   "metadata": {},
   "source": [
    "2. b If you haven't already, investigate why this code returns zero:\n",
    "\n",
    "```python\n",
    "print(len(df[df.City==\"Montevideo\"]))\n",
    "```"
   ]
  },
  {
   "cell_type": "code",
   "execution_count": 35,
   "metadata": {},
   "outputs": [
    {
     "data": {
      "text/plain": [
       "18"
      ]
     },
     "execution_count": 35,
     "metadata": {},
     "output_type": "execute_result"
    }
   ],
   "source": [
    "df.City.value_counts()['Montevideo ']"
   ]
  },
  {
   "cell_type": "code",
   "execution_count": null,
   "metadata": {},
   "outputs": [],
   "source": [
    "#Your code for question 2b goes here"
   ]
  },
  {
   "cell_type": "markdown",
   "metadata": {},
   "source": [
    "3. How many matches did USA play in 2014?  \n",
    "\n",
    "Hint: they could have been home or away.  \n",
    "\n",
    "You can combine conditions like this:  \n",
    "```python\n",
    "# Returns rows where either condition is true\n",
    "df[(condition1) | (condition2)]\n",
    "\n",
    "# Returns rows where both conditions are true  \n",
    "df[(condition1) & (condition2)]\n",
    "```"
   ]
  },
  {
   "cell_type": "code",
   "execution_count": 39,
   "metadata": {},
   "outputs": [
    {
     "data": {
      "text/plain": [
       "5"
      ]
     },
     "execution_count": 39,
     "metadata": {},
     "output_type": "execute_result"
    }
   ],
   "source": [
    "#Your code for question 3 goes here.\n",
    "\n",
    "df.loc[((df['Home Team Name'] == 'USA') | (df['Away Team Name'] == 'USA'))\n",
    "       & (df['Year'] == 2014)].shape[0]"
   ]
  },
  {
   "cell_type": "markdown",
   "metadata": {},
   "source": [
    "4. How many teams played in 1986?"
   ]
  },
  {
   "cell_type": "code",
   "execution_count": 40,
   "metadata": {},
   "outputs": [
    {
     "data": {
      "text/plain": [
       "24"
      ]
     },
     "execution_count": 40,
     "metadata": {},
     "output_type": "execute_result"
    }
   ],
   "source": [
    "#Your code for question 4 goes here.\n",
    "home_teams = df[df.Year == 1986]['Home Team Name'].unique()\n",
    "away_teams = df[df.Year == 1986]['Away Team Name'].unique()\n",
    "len(set(list(home_teams) + list(away_teams)))"
   ]
  },
  {
   "cell_type": "markdown",
   "metadata": {},
   "source": [
    "5. How many matches were there with 5 or more total goals?"
   ]
  },
  {
   "cell_type": "code",
   "execution_count": 42,
   "metadata": {},
   "outputs": [
    {
     "data": {
      "text/plain": [
       "147"
      ]
     },
     "execution_count": 42,
     "metadata": {},
     "output_type": "execute_result"
    }
   ],
   "source": [
    "#Your code for question 5 goes here.\n",
    "len(df[df['Home Team Goals'] + df['Away Team Goals'] >= 5])\n"
   ]
  }
 ],
 "metadata": {
  "kernelspec": {
   "display_name": "Python 3",
   "language": "python",
   "name": "python3"
  },
  "language_info": {
   "codemirror_mode": {
    "name": "ipython",
    "version": 3
   },
   "file_extension": ".py",
   "mimetype": "text/x-python",
   "name": "python",
   "nbconvert_exporter": "python",
   "pygments_lexer": "ipython3",
   "version": "3.7.6"
  }
 },
 "nbformat": 4,
 "nbformat_minor": 2
}
